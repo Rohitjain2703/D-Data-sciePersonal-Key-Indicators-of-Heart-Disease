{
 "cells": [
  {
   "cell_type": "markdown",
   "id": "ff856ff6",
   "metadata": {},
   "source": [
    "# base line model project1"
   ]
  },
  {
   "cell_type": "code",
   "execution_count": 1,
   "id": "7a5129e9",
   "metadata": {},
   "outputs": [],
   "source": [
    "import numpy as np\n",
    "import pandas as pd\n",
    "import matplotlib.pyplot as plt\n",
    "%matplotlib inline\n",
    "import seaborn as sns\n",
    "import warnings\n",
    "warnings.simplefilter(\"ignore\")"
   ]
  },
  {
   "cell_type": "code",
   "execution_count": 2,
   "id": "0d5b483a",
   "metadata": {},
   "outputs": [
    {
     "data": {
      "text/html": [
       "<div>\n",
       "<style scoped>\n",
       "    .dataframe tbody tr th:only-of-type {\n",
       "        vertical-align: middle;\n",
       "    }\n",
       "\n",
       "    .dataframe tbody tr th {\n",
       "        vertical-align: top;\n",
       "    }\n",
       "\n",
       "    .dataframe thead th {\n",
       "        text-align: right;\n",
       "    }\n",
       "</style>\n",
       "<table border=\"1\" class=\"dataframe\">\n",
       "  <thead>\n",
       "    <tr style=\"text-align: right;\">\n",
       "      <th></th>\n",
       "      <th>HeartDisease</th>\n",
       "      <th>BMI</th>\n",
       "      <th>Smoking</th>\n",
       "      <th>AlcoholDrinking</th>\n",
       "      <th>Stroke</th>\n",
       "      <th>PhysicalHealth</th>\n",
       "      <th>MentalHealth</th>\n",
       "      <th>DiffWalking</th>\n",
       "      <th>Sex</th>\n",
       "      <th>AgeCategory</th>\n",
       "      <th>Race</th>\n",
       "      <th>Diabetic</th>\n",
       "      <th>PhysicalActivity</th>\n",
       "      <th>GenHealth</th>\n",
       "      <th>SleepTime</th>\n",
       "      <th>Asthma</th>\n",
       "      <th>KidneyDisease</th>\n",
       "      <th>SkinCancer</th>\n",
       "    </tr>\n",
       "  </thead>\n",
       "  <tbody>\n",
       "    <tr>\n",
       "      <th>0</th>\n",
       "      <td>0</td>\n",
       "      <td>16.60</td>\n",
       "      <td>1</td>\n",
       "      <td>0</td>\n",
       "      <td>0</td>\n",
       "      <td>3.0</td>\n",
       "      <td>30.0</td>\n",
       "      <td>0</td>\n",
       "      <td>0</td>\n",
       "      <td>55-59</td>\n",
       "      <td>White</td>\n",
       "      <td>1</td>\n",
       "      <td>1</td>\n",
       "      <td>Very good</td>\n",
       "      <td>5.0</td>\n",
       "      <td>1</td>\n",
       "      <td>0</td>\n",
       "      <td>1</td>\n",
       "    </tr>\n",
       "    <tr>\n",
       "      <th>1</th>\n",
       "      <td>0</td>\n",
       "      <td>20.34</td>\n",
       "      <td>0</td>\n",
       "      <td>0</td>\n",
       "      <td>1</td>\n",
       "      <td>0.0</td>\n",
       "      <td>0.0</td>\n",
       "      <td>0</td>\n",
       "      <td>0</td>\n",
       "      <td>80 or older</td>\n",
       "      <td>White</td>\n",
       "      <td>0</td>\n",
       "      <td>1</td>\n",
       "      <td>Very good</td>\n",
       "      <td>7.0</td>\n",
       "      <td>0</td>\n",
       "      <td>0</td>\n",
       "      <td>0</td>\n",
       "    </tr>\n",
       "    <tr>\n",
       "      <th>2</th>\n",
       "      <td>0</td>\n",
       "      <td>26.58</td>\n",
       "      <td>1</td>\n",
       "      <td>0</td>\n",
       "      <td>0</td>\n",
       "      <td>20.0</td>\n",
       "      <td>30.0</td>\n",
       "      <td>0</td>\n",
       "      <td>1</td>\n",
       "      <td>65-69</td>\n",
       "      <td>White</td>\n",
       "      <td>1</td>\n",
       "      <td>1</td>\n",
       "      <td>Fair</td>\n",
       "      <td>8.0</td>\n",
       "      <td>1</td>\n",
       "      <td>0</td>\n",
       "      <td>0</td>\n",
       "    </tr>\n",
       "    <tr>\n",
       "      <th>3</th>\n",
       "      <td>0</td>\n",
       "      <td>24.21</td>\n",
       "      <td>0</td>\n",
       "      <td>0</td>\n",
       "      <td>0</td>\n",
       "      <td>0.0</td>\n",
       "      <td>0.0</td>\n",
       "      <td>0</td>\n",
       "      <td>0</td>\n",
       "      <td>75-79</td>\n",
       "      <td>White</td>\n",
       "      <td>0</td>\n",
       "      <td>0</td>\n",
       "      <td>Good</td>\n",
       "      <td>6.0</td>\n",
       "      <td>0</td>\n",
       "      <td>0</td>\n",
       "      <td>1</td>\n",
       "    </tr>\n",
       "    <tr>\n",
       "      <th>4</th>\n",
       "      <td>0</td>\n",
       "      <td>23.71</td>\n",
       "      <td>0</td>\n",
       "      <td>0</td>\n",
       "      <td>0</td>\n",
       "      <td>28.0</td>\n",
       "      <td>0.0</td>\n",
       "      <td>1</td>\n",
       "      <td>0</td>\n",
       "      <td>40-44</td>\n",
       "      <td>White</td>\n",
       "      <td>0</td>\n",
       "      <td>1</td>\n",
       "      <td>Very good</td>\n",
       "      <td>8.0</td>\n",
       "      <td>0</td>\n",
       "      <td>0</td>\n",
       "      <td>0</td>\n",
       "    </tr>\n",
       "  </tbody>\n",
       "</table>\n",
       "</div>"
      ],
      "text/plain": [
       "   HeartDisease    BMI  Smoking  AlcoholDrinking  Stroke  PhysicalHealth  \\\n",
       "0             0  16.60        1                0       0             3.0   \n",
       "1             0  20.34        0                0       1             0.0   \n",
       "2             0  26.58        1                0       0            20.0   \n",
       "3             0  24.21        0                0       0             0.0   \n",
       "4             0  23.71        0                0       0            28.0   \n",
       "\n",
       "   MentalHealth  DiffWalking  Sex  AgeCategory   Race  Diabetic  \\\n",
       "0          30.0            0    0        55-59  White         1   \n",
       "1           0.0            0    0  80 or older  White         0   \n",
       "2          30.0            0    1        65-69  White         1   \n",
       "3           0.0            0    0        75-79  White         0   \n",
       "4           0.0            1    0        40-44  White         0   \n",
       "\n",
       "   PhysicalActivity  GenHealth  SleepTime  Asthma  KidneyDisease  SkinCancer  \n",
       "0                 1  Very good        5.0       1              0           1  \n",
       "1                 1  Very good        7.0       0              0           0  \n",
       "2                 1       Fair        8.0       1              0           0  \n",
       "3                 0       Good        6.0       0              0           1  \n",
       "4                 1  Very good        8.0       0              0           0  "
      ]
     },
     "execution_count": 2,
     "metadata": {},
     "output_type": "execute_result"
    }
   ],
   "source": [
    "ds=pd.read_csv(\"EDA only.csv\")\n",
    "ds.head()"
   ]
  },
  {
   "cell_type": "markdown",
   "id": "07be2ba6",
   "metadata": {},
   "source": [
    "# no missing value in the data set "
   ]
  },
  {
   "cell_type": "markdown",
   "id": "f9cf4395",
   "metadata": {},
   "source": [
    "# encoding"
   ]
  },
  {
   "cell_type": "code",
   "execution_count": 3,
   "id": "6b4f57eb",
   "metadata": {},
   "outputs": [],
   "source": [
    "X = pd.get_dummies(ds.drop(columns=\"HeartDisease\") ,drop_first=True)\n",
    "y = ds[\"HeartDisease\"]"
   ]
  },
  {
   "cell_type": "code",
   "execution_count": 4,
   "id": "e5c9cf06",
   "metadata": {},
   "outputs": [
    {
     "data": {
      "text/html": [
       "<div>\n",
       "<style scoped>\n",
       "    .dataframe tbody tr th:only-of-type {\n",
       "        vertical-align: middle;\n",
       "    }\n",
       "\n",
       "    .dataframe tbody tr th {\n",
       "        vertical-align: top;\n",
       "    }\n",
       "\n",
       "    .dataframe thead th {\n",
       "        text-align: right;\n",
       "    }\n",
       "</style>\n",
       "<table border=\"1\" class=\"dataframe\">\n",
       "  <thead>\n",
       "    <tr style=\"text-align: right;\">\n",
       "      <th></th>\n",
       "      <th>BMI</th>\n",
       "      <th>Smoking</th>\n",
       "      <th>AlcoholDrinking</th>\n",
       "      <th>Stroke</th>\n",
       "      <th>PhysicalHealth</th>\n",
       "      <th>MentalHealth</th>\n",
       "      <th>DiffWalking</th>\n",
       "      <th>Sex</th>\n",
       "      <th>Diabetic</th>\n",
       "      <th>PhysicalActivity</th>\n",
       "      <th>...</th>\n",
       "      <th>AgeCategory_80 or older</th>\n",
       "      <th>Race_Asian</th>\n",
       "      <th>Race_Black</th>\n",
       "      <th>Race_Hispanic</th>\n",
       "      <th>Race_Other</th>\n",
       "      <th>Race_White</th>\n",
       "      <th>GenHealth_Fair</th>\n",
       "      <th>GenHealth_Good</th>\n",
       "      <th>GenHealth_Poor</th>\n",
       "      <th>GenHealth_Very good</th>\n",
       "    </tr>\n",
       "  </thead>\n",
       "  <tbody>\n",
       "    <tr>\n",
       "      <th>0</th>\n",
       "      <td>16.60</td>\n",
       "      <td>1</td>\n",
       "      <td>0</td>\n",
       "      <td>0</td>\n",
       "      <td>3.0</td>\n",
       "      <td>30.0</td>\n",
       "      <td>0</td>\n",
       "      <td>0</td>\n",
       "      <td>1</td>\n",
       "      <td>1</td>\n",
       "      <td>...</td>\n",
       "      <td>0</td>\n",
       "      <td>0</td>\n",
       "      <td>0</td>\n",
       "      <td>0</td>\n",
       "      <td>0</td>\n",
       "      <td>1</td>\n",
       "      <td>0</td>\n",
       "      <td>0</td>\n",
       "      <td>0</td>\n",
       "      <td>1</td>\n",
       "    </tr>\n",
       "    <tr>\n",
       "      <th>1</th>\n",
       "      <td>20.34</td>\n",
       "      <td>0</td>\n",
       "      <td>0</td>\n",
       "      <td>1</td>\n",
       "      <td>0.0</td>\n",
       "      <td>0.0</td>\n",
       "      <td>0</td>\n",
       "      <td>0</td>\n",
       "      <td>0</td>\n",
       "      <td>1</td>\n",
       "      <td>...</td>\n",
       "      <td>1</td>\n",
       "      <td>0</td>\n",
       "      <td>0</td>\n",
       "      <td>0</td>\n",
       "      <td>0</td>\n",
       "      <td>1</td>\n",
       "      <td>0</td>\n",
       "      <td>0</td>\n",
       "      <td>0</td>\n",
       "      <td>1</td>\n",
       "    </tr>\n",
       "    <tr>\n",
       "      <th>2</th>\n",
       "      <td>26.58</td>\n",
       "      <td>1</td>\n",
       "      <td>0</td>\n",
       "      <td>0</td>\n",
       "      <td>20.0</td>\n",
       "      <td>30.0</td>\n",
       "      <td>0</td>\n",
       "      <td>1</td>\n",
       "      <td>1</td>\n",
       "      <td>1</td>\n",
       "      <td>...</td>\n",
       "      <td>0</td>\n",
       "      <td>0</td>\n",
       "      <td>0</td>\n",
       "      <td>0</td>\n",
       "      <td>0</td>\n",
       "      <td>1</td>\n",
       "      <td>1</td>\n",
       "      <td>0</td>\n",
       "      <td>0</td>\n",
       "      <td>0</td>\n",
       "    </tr>\n",
       "    <tr>\n",
       "      <th>3</th>\n",
       "      <td>24.21</td>\n",
       "      <td>0</td>\n",
       "      <td>0</td>\n",
       "      <td>0</td>\n",
       "      <td>0.0</td>\n",
       "      <td>0.0</td>\n",
       "      <td>0</td>\n",
       "      <td>0</td>\n",
       "      <td>0</td>\n",
       "      <td>0</td>\n",
       "      <td>...</td>\n",
       "      <td>0</td>\n",
       "      <td>0</td>\n",
       "      <td>0</td>\n",
       "      <td>0</td>\n",
       "      <td>0</td>\n",
       "      <td>1</td>\n",
       "      <td>0</td>\n",
       "      <td>1</td>\n",
       "      <td>0</td>\n",
       "      <td>0</td>\n",
       "    </tr>\n",
       "    <tr>\n",
       "      <th>4</th>\n",
       "      <td>23.71</td>\n",
       "      <td>0</td>\n",
       "      <td>0</td>\n",
       "      <td>0</td>\n",
       "      <td>28.0</td>\n",
       "      <td>0.0</td>\n",
       "      <td>1</td>\n",
       "      <td>0</td>\n",
       "      <td>0</td>\n",
       "      <td>1</td>\n",
       "      <td>...</td>\n",
       "      <td>0</td>\n",
       "      <td>0</td>\n",
       "      <td>0</td>\n",
       "      <td>0</td>\n",
       "      <td>0</td>\n",
       "      <td>1</td>\n",
       "      <td>0</td>\n",
       "      <td>0</td>\n",
       "      <td>0</td>\n",
       "      <td>1</td>\n",
       "    </tr>\n",
       "    <tr>\n",
       "      <th>...</th>\n",
       "      <td>...</td>\n",
       "      <td>...</td>\n",
       "      <td>...</td>\n",
       "      <td>...</td>\n",
       "      <td>...</td>\n",
       "      <td>...</td>\n",
       "      <td>...</td>\n",
       "      <td>...</td>\n",
       "      <td>...</td>\n",
       "      <td>...</td>\n",
       "      <td>...</td>\n",
       "      <td>...</td>\n",
       "      <td>...</td>\n",
       "      <td>...</td>\n",
       "      <td>...</td>\n",
       "      <td>...</td>\n",
       "      <td>...</td>\n",
       "      <td>...</td>\n",
       "      <td>...</td>\n",
       "      <td>...</td>\n",
       "      <td>...</td>\n",
       "    </tr>\n",
       "    <tr>\n",
       "      <th>319790</th>\n",
       "      <td>27.41</td>\n",
       "      <td>1</td>\n",
       "      <td>0</td>\n",
       "      <td>0</td>\n",
       "      <td>7.0</td>\n",
       "      <td>0.0</td>\n",
       "      <td>1</td>\n",
       "      <td>1</td>\n",
       "      <td>1</td>\n",
       "      <td>0</td>\n",
       "      <td>...</td>\n",
       "      <td>0</td>\n",
       "      <td>0</td>\n",
       "      <td>0</td>\n",
       "      <td>1</td>\n",
       "      <td>0</td>\n",
       "      <td>0</td>\n",
       "      <td>1</td>\n",
       "      <td>0</td>\n",
       "      <td>0</td>\n",
       "      <td>0</td>\n",
       "    </tr>\n",
       "    <tr>\n",
       "      <th>319791</th>\n",
       "      <td>29.84</td>\n",
       "      <td>1</td>\n",
       "      <td>0</td>\n",
       "      <td>0</td>\n",
       "      <td>0.0</td>\n",
       "      <td>0.0</td>\n",
       "      <td>0</td>\n",
       "      <td>1</td>\n",
       "      <td>0</td>\n",
       "      <td>1</td>\n",
       "      <td>...</td>\n",
       "      <td>0</td>\n",
       "      <td>0</td>\n",
       "      <td>0</td>\n",
       "      <td>1</td>\n",
       "      <td>0</td>\n",
       "      <td>0</td>\n",
       "      <td>0</td>\n",
       "      <td>0</td>\n",
       "      <td>0</td>\n",
       "      <td>1</td>\n",
       "    </tr>\n",
       "    <tr>\n",
       "      <th>319792</th>\n",
       "      <td>24.24</td>\n",
       "      <td>0</td>\n",
       "      <td>0</td>\n",
       "      <td>0</td>\n",
       "      <td>0.0</td>\n",
       "      <td>0.0</td>\n",
       "      <td>0</td>\n",
       "      <td>0</td>\n",
       "      <td>0</td>\n",
       "      <td>1</td>\n",
       "      <td>...</td>\n",
       "      <td>0</td>\n",
       "      <td>0</td>\n",
       "      <td>0</td>\n",
       "      <td>1</td>\n",
       "      <td>0</td>\n",
       "      <td>0</td>\n",
       "      <td>0</td>\n",
       "      <td>1</td>\n",
       "      <td>0</td>\n",
       "      <td>0</td>\n",
       "    </tr>\n",
       "    <tr>\n",
       "      <th>319793</th>\n",
       "      <td>32.81</td>\n",
       "      <td>0</td>\n",
       "      <td>0</td>\n",
       "      <td>0</td>\n",
       "      <td>0.0</td>\n",
       "      <td>0.0</td>\n",
       "      <td>0</td>\n",
       "      <td>0</td>\n",
       "      <td>0</td>\n",
       "      <td>0</td>\n",
       "      <td>...</td>\n",
       "      <td>0</td>\n",
       "      <td>0</td>\n",
       "      <td>0</td>\n",
       "      <td>1</td>\n",
       "      <td>0</td>\n",
       "      <td>0</td>\n",
       "      <td>0</td>\n",
       "      <td>1</td>\n",
       "      <td>0</td>\n",
       "      <td>0</td>\n",
       "    </tr>\n",
       "    <tr>\n",
       "      <th>319794</th>\n",
       "      <td>46.56</td>\n",
       "      <td>0</td>\n",
       "      <td>0</td>\n",
       "      <td>0</td>\n",
       "      <td>0.0</td>\n",
       "      <td>0.0</td>\n",
       "      <td>0</td>\n",
       "      <td>0</td>\n",
       "      <td>0</td>\n",
       "      <td>1</td>\n",
       "      <td>...</td>\n",
       "      <td>1</td>\n",
       "      <td>0</td>\n",
       "      <td>0</td>\n",
       "      <td>1</td>\n",
       "      <td>0</td>\n",
       "      <td>0</td>\n",
       "      <td>0</td>\n",
       "      <td>1</td>\n",
       "      <td>0</td>\n",
       "      <td>0</td>\n",
       "    </tr>\n",
       "  </tbody>\n",
       "</table>\n",
       "<p>319795 rows × 35 columns</p>\n",
       "</div>"
      ],
      "text/plain": [
       "          BMI  Smoking  AlcoholDrinking  Stroke  PhysicalHealth  MentalHealth  \\\n",
       "0       16.60        1                0       0             3.0          30.0   \n",
       "1       20.34        0                0       1             0.0           0.0   \n",
       "2       26.58        1                0       0            20.0          30.0   \n",
       "3       24.21        0                0       0             0.0           0.0   \n",
       "4       23.71        0                0       0            28.0           0.0   \n",
       "...       ...      ...              ...     ...             ...           ...   \n",
       "319790  27.41        1                0       0             7.0           0.0   \n",
       "319791  29.84        1                0       0             0.0           0.0   \n",
       "319792  24.24        0                0       0             0.0           0.0   \n",
       "319793  32.81        0                0       0             0.0           0.0   \n",
       "319794  46.56        0                0       0             0.0           0.0   \n",
       "\n",
       "        DiffWalking  Sex  Diabetic  PhysicalActivity  ...  \\\n",
       "0                 0    0         1                 1  ...   \n",
       "1                 0    0         0                 1  ...   \n",
       "2                 0    1         1                 1  ...   \n",
       "3                 0    0         0                 0  ...   \n",
       "4                 1    0         0                 1  ...   \n",
       "...             ...  ...       ...               ...  ...   \n",
       "319790            1    1         1                 0  ...   \n",
       "319791            0    1         0                 1  ...   \n",
       "319792            0    0         0                 1  ...   \n",
       "319793            0    0         0                 0  ...   \n",
       "319794            0    0         0                 1  ...   \n",
       "\n",
       "        AgeCategory_80 or older  Race_Asian  Race_Black  Race_Hispanic  \\\n",
       "0                             0           0           0              0   \n",
       "1                             1           0           0              0   \n",
       "2                             0           0           0              0   \n",
       "3                             0           0           0              0   \n",
       "4                             0           0           0              0   \n",
       "...                         ...         ...         ...            ...   \n",
       "319790                        0           0           0              1   \n",
       "319791                        0           0           0              1   \n",
       "319792                        0           0           0              1   \n",
       "319793                        0           0           0              1   \n",
       "319794                        1           0           0              1   \n",
       "\n",
       "        Race_Other  Race_White  GenHealth_Fair  GenHealth_Good  \\\n",
       "0                0           1               0               0   \n",
       "1                0           1               0               0   \n",
       "2                0           1               1               0   \n",
       "3                0           1               0               1   \n",
       "4                0           1               0               0   \n",
       "...            ...         ...             ...             ...   \n",
       "319790           0           0               1               0   \n",
       "319791           0           0               0               0   \n",
       "319792           0           0               0               1   \n",
       "319793           0           0               0               1   \n",
       "319794           0           0               0               1   \n",
       "\n",
       "        GenHealth_Poor  GenHealth_Very good  \n",
       "0                    0                    1  \n",
       "1                    0                    1  \n",
       "2                    0                    0  \n",
       "3                    0                    0  \n",
       "4                    0                    1  \n",
       "...                ...                  ...  \n",
       "319790               0                    0  \n",
       "319791               0                    1  \n",
       "319792               0                    0  \n",
       "319793               0                    0  \n",
       "319794               0                    0  \n",
       "\n",
       "[319795 rows x 35 columns]"
      ]
     },
     "execution_count": 4,
     "metadata": {},
     "output_type": "execute_result"
    }
   ],
   "source": [
    "X"
   ]
  },
  {
   "cell_type": "code",
   "execution_count": 5,
   "id": "9f7c30b2",
   "metadata": {},
   "outputs": [
    {
     "name": "stdout",
     "output_type": "stream",
     "text": [
      "<class 'pandas.core.frame.DataFrame'>\n",
      "RangeIndex: 319795 entries, 0 to 319794\n",
      "Data columns (total 35 columns):\n",
      " #   Column                   Non-Null Count   Dtype  \n",
      "---  ------                   --------------   -----  \n",
      " 0   BMI                      319795 non-null  float64\n",
      " 1   Smoking                  319795 non-null  int64  \n",
      " 2   AlcoholDrinking          319795 non-null  int64  \n",
      " 3   Stroke                   319795 non-null  int64  \n",
      " 4   PhysicalHealth           319795 non-null  float64\n",
      " 5   MentalHealth             319795 non-null  float64\n",
      " 6   DiffWalking              319795 non-null  int64  \n",
      " 7   Sex                      319795 non-null  int64  \n",
      " 8   Diabetic                 319795 non-null  int64  \n",
      " 9   PhysicalActivity         319795 non-null  int64  \n",
      " 10  SleepTime                319795 non-null  float64\n",
      " 11  Asthma                   319795 non-null  int64  \n",
      " 12  KidneyDisease            319795 non-null  int64  \n",
      " 13  SkinCancer               319795 non-null  int64  \n",
      " 14  AgeCategory_25-29        319795 non-null  uint8  \n",
      " 15  AgeCategory_30-34        319795 non-null  uint8  \n",
      " 16  AgeCategory_35-39        319795 non-null  uint8  \n",
      " 17  AgeCategory_40-44        319795 non-null  uint8  \n",
      " 18  AgeCategory_45-49        319795 non-null  uint8  \n",
      " 19  AgeCategory_50-54        319795 non-null  uint8  \n",
      " 20  AgeCategory_55-59        319795 non-null  uint8  \n",
      " 21  AgeCategory_60-64        319795 non-null  uint8  \n",
      " 22  AgeCategory_65-69        319795 non-null  uint8  \n",
      " 23  AgeCategory_70-74        319795 non-null  uint8  \n",
      " 24  AgeCategory_75-79        319795 non-null  uint8  \n",
      " 25  AgeCategory_80 or older  319795 non-null  uint8  \n",
      " 26  Race_Asian               319795 non-null  uint8  \n",
      " 27  Race_Black               319795 non-null  uint8  \n",
      " 28  Race_Hispanic            319795 non-null  uint8  \n",
      " 29  Race_Other               319795 non-null  uint8  \n",
      " 30  Race_White               319795 non-null  uint8  \n",
      " 31  GenHealth_Fair           319795 non-null  uint8  \n",
      " 32  GenHealth_Good           319795 non-null  uint8  \n",
      " 33  GenHealth_Poor           319795 non-null  uint8  \n",
      " 34  GenHealth_Very good      319795 non-null  uint8  \n",
      "dtypes: float64(4), int64(10), uint8(21)\n",
      "memory usage: 40.6 MB\n"
     ]
    }
   ],
   "source": [
    "X.info()"
   ]
  },
  {
   "cell_type": "code",
   "execution_count": 6,
   "id": "ec8444b2",
   "metadata": {},
   "outputs": [
    {
     "name": "stdout",
     "output_type": "stream",
     "text": [
      "original data set shape\n",
      "________________________________\n"
     ]
    },
    {
     "data": {
      "text/plain": [
       "0    292422\n",
       "1     27373\n",
       "Name: HeartDisease, dtype: int64"
      ]
     },
     "execution_count": 6,
     "metadata": {},
     "output_type": "execute_result"
    }
   ],
   "source": [
    "print(\"original data set shape\")\n",
    "print(\"________________________________\")\n",
    "y.value_counts()"
   ]
  },
  {
   "cell_type": "code",
   "execution_count": 7,
   "id": "56535d8a",
   "metadata": {},
   "outputs": [],
   "source": [
    "#pip install imblearn"
   ]
  },
  {
   "cell_type": "markdown",
   "id": "85d5282f",
   "metadata": {},
   "source": [
    "# using the ensemble method  handling the imbalecnces data"
   ]
  },
  {
   "cell_type": "code",
   "execution_count": 8,
   "id": "e9d15b45",
   "metadata": {},
   "outputs": [],
   "source": [
    "import imblearn"
   ]
  },
  {
   "cell_type": "code",
   "execution_count": 9,
   "id": "da200a2c",
   "metadata": {},
   "outputs": [
    {
     "name": "stdout",
     "output_type": "stream",
     "text": [
      "after smote data set shape\n",
      "________________________________\n"
     ]
    },
    {
     "data": {
      "text/plain": [
       "0    292422\n",
       "1    292422\n",
       "Name: HeartDisease, dtype: int64"
      ]
     },
     "execution_count": 9,
     "metadata": {},
     "output_type": "execute_result"
    }
   ],
   "source": [
    "#using the SMOTE method  handling the imbalecnces data\n",
    "\n",
    "from imblearn.over_sampling import SMOTE\n",
    "ec=SMOTE()\n",
    "X_new,y_new=ec.fit_resample(X,y)\n",
    "print(\"after smote data set shape\")\n",
    "print(\"________________________________\")\n",
    "y_new.value_counts()\n"
   ]
  },
  {
   "cell_type": "raw",
   "id": "813b64ce",
   "metadata": {},
   "source": [
    "count_classes = pd.value_counts(ds['HeartDisease'], sort = True)\n",
    "\n",
    "count_classes.plot(kind = 'bar', rot=0)\n",
    "\n",
    "plt.title(\"Transaction Class Distribution\")\n",
    "\n",
    "plt.xticks(range(2))\n",
    "\n",
    "plt.xlabel(\"HeartDisease\")\n",
    "\n",
    "plt.ylabel(\"Frequency\")\n",
    "\n",
    "## Get the Fraud and the normal dataset \n",
    "\n",
    "fraud = ds[ds['HeartDisease']==1]\n",
    "\n",
    "normal = ds[ds['HeartDisease']==0]\n",
    "print(fraud.shape,normal.shape)\n",
    "\n",
    "\n",
    "from imblearn.combine import SMOTETomek\n",
    "from imblearn.under_sampling import NearMiss\n",
    "\n",
    "# Implementing Oversampling for Handling Imbalanced \n",
    "smk = SMOTETomek(random_state=42)\n",
    "X_res,y_res=smk.fit_sample(X,y)\n",
    "\n",
    "X_res.shape,y_res.shape\n",
    "\n",
    "from collections import Counter\n",
    "print('Original dataset shape {}'.format(Counter(y)))\n",
    "print('Resampled dataset shape {}'.format(Counter(y_res)))\n"
   ]
  },
  {
   "cell_type": "markdown",
   "id": "713eaafa",
   "metadata": {},
   "source": [
    "# train test_split"
   ]
  },
  {
   "cell_type": "code",
   "execution_count": 10,
   "id": "17d4db49",
   "metadata": {},
   "outputs": [],
   "source": [
    "from sklearn.model_selection import train_test_split\n",
    "from sklearn.metrics import accuracy_score\n",
    "from sklearn.model_selection import cross_val_score\n",
    "from sklearn.preprocessing import StandardScaler"
   ]
  },
  {
   "cell_type": "markdown",
   "id": "4212b067",
   "metadata": {},
   "source": [
    "# logistic regression "
   ]
  },
  {
   "cell_type": "code",
   "execution_count": 11,
   "id": "260c543b",
   "metadata": {},
   "outputs": [
    {
     "name": "stdout",
     "output_type": "stream",
     "text": [
      "0.9157937115964915\n",
      "0.914757891774418\n",
      "[0.91558655 0.9154302  0.9164152  0.91524258 0.91596179]\n"
     ]
    },
    {
     "data": {
      "text/plain": [
       "0.915727262777717"
      ]
     },
     "execution_count": 11,
     "metadata": {},
     "output_type": "execute_result"
    }
   ],
   "source": [
    "#modeling with base line \n",
    "\n",
    "X_train, X_test, y_train, y_test = train_test_split(X, y , random_state =129,     test_size=0.2)\n",
    "from sklearn.linear_model import LogisticRegression \n",
    "log_model=LogisticRegression(random_state =129)\n",
    "log_model.fit(X_train,y_train)\n",
    "\n",
    "#prediction \n",
    "#predicctopn on ur train data \n",
    "train_pred=log_model.predict(X_train)\n",
    "\n",
    "#predicctopn on ur test data \n",
    "test_pred=log_model.predict(X_test)\n",
    "\n",
    "#EVALUTION\n",
    "print(accuracy_score(y_train,train_pred)) #train accuracy\n",
    "print(accuracy_score(y_test,test_pred))    #test accuracy\n",
    "sc=cross_val_score(log_model,X,y,cv=5)     #cross validation score\n",
    "print(sc)\n",
    "sc.mean()"
   ]
  },
  {
   "cell_type": "code",
   "execution_count": 12,
   "id": "f7e8bbf0",
   "metadata": {},
   "outputs": [
    {
     "name": "stdout",
     "output_type": "stream",
     "text": [
      "GridSearchCV(cv=5, estimator=LogisticRegression(),\n",
      "             param_grid={'class_weight': ['balanced'], 'max_iter': [6, 8],\n",
      "                         'solver': ['newton-cg', 'lbfgs', 'liblinear', 'sag',\n",
      "                                    'saga']},\n",
      "             scoring='accuracy')\n"
     ]
    },
    {
     "data": {
      "text/plain": [
       "{'class_weight': 'balanced', 'max_iter': 6, 'solver': 'lbfgs'}"
      ]
     },
     "execution_count": 12,
     "metadata": {},
     "output_type": "execute_result"
    }
   ],
   "source": [
    "#Hyperparameter Tuning logistic regression \n",
    "from sklearn.model_selection import GridSearchCV\n",
    "\n",
    "estimator= LogisticRegression()\n",
    "param_grid= {'max_iter': [6,8],                      \n",
    "    'solver': ['newton-cg', 'lbfgs', 'liblinear', 'sag', 'saga'],   \n",
    "    'class_weight': ['balanced']}\n",
    "    \n",
    "mode1= GridSearchCV(estimator, param_grid, cv=5, scoring='accuracy')\n",
    "print(mode1.fit(X_train, y_train))\n",
    "mode1.best_params_"
   ]
  },
  {
   "cell_type": "code",
   "execution_count": 13,
   "id": "71ccec2e",
   "metadata": {},
   "outputs": [
    {
     "name": "stdout",
     "output_type": "stream",
     "text": [
      "0.8079433699713879\n",
      "0.807532950796604\n",
      "[0.799606   0.81409966 0.81344299 0.80834597 0.80507825]\n"
     ]
    },
    {
     "data": {
      "text/plain": [
       "0.8081145733985835"
      ]
     },
     "execution_count": 13,
     "metadata": {},
     "output_type": "execute_result"
    }
   ],
   "source": [
    "model_1= LogisticRegression(class_weight=\"balanced\", max_iter= 6, solver=\"lbfgs\")\n",
    "model_1.fit(X_train,y_train)\n",
    "\n",
    "#Predicition\n",
    "ypred_train= model_1.predict(X_train)\n",
    "ypred_test= model_1. predict(X_test)\n",
    "\n",
    "#Evalution\n",
    "from sklearn.metrics import accuracy_score\n",
    "print(accuracy_score(y_train, ypred_train))\n",
    "print(accuracy_score(y_test, ypred_test))\n",
    "\n",
    "#cross validation\n",
    "from sklearn.model_selection import cross_val_score\n",
    "scores= cross_val_score(model_1, X,y, cv=5)\n",
    "print(scores)\n",
    "scores.mean()"
   ]
  },
  {
   "cell_type": "markdown",
   "id": "0c89a29a",
   "metadata": {},
   "source": [
    "# 2-KNN-MODEL BAse lINE"
   ]
  },
  {
   "cell_type": "code",
   "execution_count": 14,
   "id": "9dfbb5fd",
   "metadata": {},
   "outputs": [
    {
     "name": "stdout",
     "output_type": "stream",
     "text": [
      "0.9227942900920902\n",
      "0.9077846745571382\n",
      "[0.90812864 0.90725308 0.90794102 0.90747197 0.90772213]\n"
     ]
    },
    {
     "data": {
      "text/plain": [
       "0.9077033724729905"
      ]
     },
     "execution_count": 14,
     "metadata": {},
     "output_type": "execute_result"
    }
   ],
   "source": [
    "#modeling with defult paramertors \n",
    "from sklearn.neighbors import KNeighborsClassifier\n",
    "knn_model= KNeighborsClassifier()\n",
    "knn_model.fit(X_train,y_train)\n",
    "\n",
    "#prediction\n",
    "train_pred=knn_model.predict(X_train)\n",
    "test_pred=knn_model.predict(X_test)\n",
    "\n",
    "#evalution\n",
    "from sklearn.metrics import accuracy_score\n",
    "print(accuracy_score(y_train,train_pred))\n",
    "print(accuracy_score(y_test,test_pred))\n",
    "\n",
    "\n",
    "#cross validation\n",
    "from sklearn.model_selection import cross_val_score\n",
    "sc=cross_val_score(knn_model,X,y,cv=5)\n",
    "print(sc)\n",
    "sc.mean()"
   ]
  },
  {
   "cell_type": "markdown",
   "id": "4e02b1cf",
   "metadata": {},
   "source": [
    "# hyperpara meter tunning in knn model without scaling"
   ]
  },
  {
   "cell_type": "code",
   "execution_count": null,
   "id": "1a80b0c4",
   "metadata": {},
   "outputs": [],
   "source": [
    "from sklearn.model_selection import GridSearchCV\n",
    "\n",
    "estimator=KNeighborsClassifier()\n",
    "\n",
    "param_grid={\"n_neighbors\":list(range(1,5)),\"p\":[1,2]}\n",
    "hypertvalue=GridSearchCV(estimator,param_grid,cv=5,scoring=\"accuracy\")\n",
    "hypertvalue.fit(X_train,y_train)\n",
    "hypertvalue.best_params_"
   ]
  },
  {
   "cell_type": "markdown",
   "id": "64522d7f",
   "metadata": {},
   "source": [
    "# rebuild the model with hyper tunning pareams"
   ]
  },
  {
   "cell_type": "code",
   "execution_count": null,
   "id": "70182696",
   "metadata": {},
   "outputs": [],
   "source": [
    "#rebuild the model with hyper tunning pareams \n",
    "knn_model=KNeighborsClassifier(n_neighbors=5,p=1)\n",
    "knn_model.fit(X_train,y_train)\n",
    "\n",
    "train_pred=knn_model.predict(X_train)\n",
    "test_pred=knn_model.predict(X_test)\n",
    "\n",
    "print(accuracy_score(y_train,train_pred))\n",
    "print(accuracy_score(y_test,test_pred))\n",
    "\n",
    "sc=cross_val_score(knn_model,X,y,cv=5)     #cross validation score\n",
    "print(sc)\n",
    "sc.mean()\n"
   ]
  },
  {
   "cell_type": "markdown",
   "id": "86be0e04",
   "metadata": {},
   "source": [
    "# useing the scaling with base line model of knn"
   ]
  },
  {
   "cell_type": "code",
   "execution_count": null,
   "id": "4f385ba2",
   "metadata": {},
   "outputs": [],
   "source": [
    "from sklearn.preprocessing import StandardScaler\n",
    "sc=StandardScaler()\n",
    "Xtrains=sc.fit_transform(X_train)\n",
    "Xtests=sc.transform(X_test)\n",
    "\n",
    "knn_model2=KNeighborsClassifier()\n",
    "knn_model2.fit(Xtrains,y_train)\n",
    "\n",
    "#prediction\n",
    "train_pred=knn_model2.predict(Xtrains)\n",
    "test_pred=knn_model2.predict(Xtests)\n",
    "\n",
    "#EVALUTION\n",
    "print(accuracy_score(y_train,train_pred)) #train accuracy\n",
    "print(accuracy_score(y_test,test_pred))    #test accuracy\n",
    "sc=cross_val_score(knn_model2,X,y,cv=5)     #cross validation score\n",
    "print(sc)\n",
    "sc.mean()"
   ]
  },
  {
   "cell_type": "code",
   "execution_count": null,
   "id": "cd60ab89",
   "metadata": {},
   "outputs": [],
   "source": [
    "estimator=KNeighborsClassifier()\n",
    "\n",
    "param_grid={\"n_neighbors\":list(range(1,5)),\"p\":[1,2]}\n",
    "hypertvalue=GridSearchCV(estimator,param_grid,cv=5,scoring=\"accuracy\")\n",
    "hypertvalue.fit(Xtrains,y_train)\n",
    "hypertvalue.best_params_"
   ]
  },
  {
   "cell_type": "code",
   "execution_count": null,
   "id": "18355845",
   "metadata": {},
   "outputs": [],
   "source": [
    "from sklearn.preprocessing import StandardScaler\n",
    "sc=StandardScaler()\n",
    "Xtrains=sc.fit_transform(X_train)\n",
    "Xtests=sc.transform(X_test)\n",
    "\n",
    "knn_model2=KNeighborsClassifier(n_neighbors=16, p= 1)\n",
    "knn_model2.fit(Xtrains,y_train)\n",
    "\n",
    "#prediction\n",
    "train_pred=knn_model2.predict(Xtrains)\n",
    "test_pred=knn_model2.predict(Xtests)\n",
    "\n",
    "#EVALUTION\n",
    "print(accuracy_score(y_train,train_pred)) #train accuracy\n",
    "print(accuracy_score(y_test,test_pred))    #test accuracy\n",
    "sc=cross_val_score(knn_model2,X,y,cv=5)     #cross validation score\n",
    "print(sc)\n",
    "sc.mean()"
   ]
  },
  {
   "cell_type": "markdown",
   "id": "cbbccd59",
   "metadata": {},
   "source": [
    "# 3-support vector machines (svm) wth base line parameter"
   ]
  },
  {
   "cell_type": "code",
   "execution_count": null,
   "id": "9b3b1ba1",
   "metadata": {},
   "outputs": [],
   "source": [
    "#support vector machines (svm) wth defult parameter\n",
    "from sklearn.svm import SVC\n",
    "model=SVC(random_state =129)\n",
    "model.fit(X_train,y_train)\n",
    "\n",
    "#prediction\n",
    "train_pred=model.predict(X_train)\n",
    "test_pred=model.predict(X_test)\n",
    "\n",
    "#accuracy\n",
    "from sklearn.metrics import accuracy_score\n",
    "print(accuracy_score(y_train,train_pred))\n",
    "print(accuracy_score(y_test,test_pred))\n",
    "\n",
    "#cross validation\n",
    "from sklearn.model_selection import cross_val_score\n",
    "sc=cross_val_score(log_model,X,y,cv=5)\n",
    "print(sc)\n",
    "sc.mean()"
   ]
  },
  {
   "cell_type": "markdown",
   "id": "f12ccb98",
   "metadata": {},
   "source": [
    "# hyper tunning with svm without scaling"
   ]
  },
  {
   "cell_type": "code",
   "execution_count": null,
   "id": "5ab05aa1",
   "metadata": {},
   "outputs": [],
   "source": [
    "from sklearn.model_selection import GridSearchCV\n",
    "estimator=SVC()\n",
    "param_grid={\"C\":[0.1,0.2,0.3,0.4,0.5],\"kernel\":[\"linear\",\"poly\",\"rbf\",\"sigmoid\"]}\n",
    "\n",
    "\n",
    "grid=GridSearchCV(estimator,param_grid,cv=5)\n",
    "\n",
    "grid.fit(X_train,y_train)\n",
    "\n",
    "\n",
    "\n",
    "\n",
    "\n",
    "#'c':[1,10,100,1000],'kernel':['linear'],'c':[1,10,100,1000],'gamma':[0.001,0.0001],'kernel':['rbf']}\n",
    "#\"C\":[0,1,100],\"kernal\":[\"linear\",\"rbf\",\"sigmoid\",\"poly\"]}\n",
    "grid.best_params_"
   ]
  },
  {
   "cell_type": "markdown",
   "id": "250bbcc5",
   "metadata": {},
   "source": [
    "# rebuild the with best hyper tunning value"
   ]
  },
  {
   "cell_type": "code",
   "execution_count": null,
   "id": "f2d4f452",
   "metadata": {},
   "outputs": [],
   "source": [
    "#rebuild the with best hyper tunning value\n",
    "model=SVC(kernel=\"linear\",C=0.2)\n",
    "model.fit(X_train,y_train)\n",
    "\n",
    "train_prediction=model.predict(X_train)\n",
    "test_prediction=model.predict(X_test)\n",
    "\n",
    "print(accuracy_score(y_train,train_prediction))  #trainaccuracy\n",
    "print(accuracy_score(y_test,test_prediction))    #testaccuracy\n",
    "\n",
    "#cross validation\n",
    "from sklearn.model_selection import cross_val_score\n",
    "sc=cross_val_score(model,X,y,cv=5)\n",
    "print(sc)\n",
    "sc.mean()"
   ]
  },
  {
   "cell_type": "markdown",
   "id": "dbcbe2c2",
   "metadata": {},
   "source": [
    "# 4-Descsion tree #modelling with base line parameter decision"
   ]
  },
  {
   "cell_type": "code",
   "execution_count": null,
   "id": "fce6ffe1",
   "metadata": {},
   "outputs": [],
   "source": [
    "#modelling with defult parameter decision \n",
    "from sklearn.tree import DecisionTreeClassifier\n",
    "model=DecisionTreeClassifier(random_state =129)\n",
    "model.fit(X_train,y_train)\n",
    "\n",
    "#prediction \n",
    "test_pred=model.predict(X_test)\n",
    "train_pred=model.predict(X_train)\n",
    "\n",
    "#evaluation \n",
    "from sklearn.metrics import classification_report,plot_confusion_matrix,accuracy_score\n",
    "\n",
    "print(accuracy_score(y_train,train_pred))\n",
    "print(accuracy_score(y_test,test_pred))\n",
    "\n",
    "#cross validation\n",
    "from sklearn.model_selection import cross_val_score\n",
    "sc=cross_val_score(model,X,y,cv=5)\n",
    "print(sc)\n",
    "sc.mean()\n"
   ]
  },
  {
   "cell_type": "code",
   "execution_count": null,
   "id": "d53514f6",
   "metadata": {},
   "outputs": [],
   "source": [
    "plot_confusion_matrix(model,X_test,y_test)\n",
    "plt.show()"
   ]
  },
  {
   "cell_type": "code",
   "execution_count": null,
   "id": "01a0315e",
   "metadata": {},
   "outputs": [],
   "source": [
    "print(classification_report(y_test,test_pred))"
   ]
  },
  {
   "cell_type": "markdown",
   "id": "f2b12c57",
   "metadata": {},
   "source": [
    "# model importance is showing the best feature/coumns high impotances choes the in decision"
   ]
  },
  {
   "cell_type": "code",
   "execution_count": null,
   "id": "eff9dcd9",
   "metadata": {},
   "outputs": [],
   "source": [
    "model.feature_importances_"
   ]
  },
  {
   "cell_type": "code",
   "execution_count": null,
   "id": "db0a1782",
   "metadata": {},
   "outputs": [],
   "source": [
    "col=pd.DataFrame(index=X.columns,data=model.feature_importances_,columns=[\"FeatureImportances\"])\n",
    "col"
   ]
  },
  {
   "cell_type": "code",
   "execution_count": null,
   "id": "fdb54500",
   "metadata": {},
   "outputs": [],
   "source": [
    "col=col[col[\"FeatureImportances\"]>=0.01]\n",
    "col"
   ]
  },
  {
   "cell_type": "code",
   "execution_count": null,
   "id": "d74de218",
   "metadata": {},
   "outputs": [],
   "source": [
    "X1=X[[\"Pclass\",\"Age\",\"SibSp\",\"Parch\",\"Fare\",\"Sex_male\",\"Embarked_S\"]]\n"
   ]
  },
  {
   "cell_type": "code",
   "execution_count": null,
   "id": "38080960",
   "metadata": {},
   "outputs": [],
   "source": [
    "estimator=DecisionTreeClassifier(random_state =129)\n",
    "\n",
    "param_grid={\"min_samples_split\":[1,2,3,4],\"min_samples_leaf\":[1,2,3,4],\"max_depth\":[1,2,3,4],\"criterion\":[\"gini\",\"entropy\"]}\n",
    "\n",
    "#\"min_samples_split\":[1,2,3,4],\"min_samples_leaf\":[1,2,3,4],\"max_depth\":[1,2,3,4],\"criterion\":[\"gini\",\"entropy\"]}\n",
    "#\"min_samples_split\":list(range(1,10)),\"criterion\":[\"gini\",\"entropy\"]}\n",
    "\n",
    "grid=GridSearchCV(estimator,param_grid,cv=5,scoring=\"accuracy\")\n",
    "\n",
    "grid.fit(X_train,y_train)\n",
    "grid.best_params_"
   ]
  },
  {
   "cell_type": "code",
   "execution_count": null,
   "id": "4fc8dc18",
   "metadata": {},
   "outputs": [],
   "source": [
    "X1_train, X1_test, y_train, y_test = train_test_split(X1, y , random_state =129,     test_size=0.2)\n",
    "d_model=DecisionTreeClassifier(criterion='gini',\n",
    " max_depth= 4,\n",
    " min_samples_leaf=2,\n",
    " min_samples_split=2)\n",
    "    \n",
    "\n",
    "#criterion=\"entropy\",min_samples_split=3\n",
    "\n",
    "\n",
    "d_model.fit(X1_train,y_train)\n",
    "\n",
    "train_pred=d_model.predict(X1_train)\n",
    "test_pred=d_model.predict(X1_test)\n",
    "\n",
    "print(accuracy_score(y_train,train_pred))\n",
    "print(accuracy_score(y_test,test_pred))\n",
    "#cross validation\n",
    "from sklearn.model_selection import cross_val_score\n",
    "sc=cross_val_score(model,X1,y,cv=5)\n",
    "print(sc)\n",
    "print(sc.mean())"
   ]
  },
  {
   "cell_type": "markdown",
   "id": "4d98560d",
   "metadata": {},
   "source": [
    "# visualize the trees in Descion tree"
   ]
  },
  {
   "cell_type": "code",
   "execution_count": null,
   "id": "21f79e21",
   "metadata": {},
   "outputs": [],
   "source": [
    "from sklearn.tree import plot_tree\n",
    "plt.figure(figsize=(12,10),dpi=500)\n",
    "plot_tree(model,filled=True,feature_names=X.columns)\n",
    "plt.show()"
   ]
  },
  {
   "cell_type": "markdown",
   "id": "5005d757",
   "metadata": {},
   "source": [
    "# optimization --pruning of decision tree pruning mean cutting uneseeracy part of tree"
   ]
  },
  {
   "cell_type": "code",
   "execution_count": null,
   "id": "f7f40857",
   "metadata": {},
   "outputs": [],
   "source": [
    "pruned_tree=DecisionTreeClassifier(max_depth=4)\n"
   ]
  },
  {
   "cell_type": "code",
   "execution_count": null,
   "id": "281b9bd4",
   "metadata": {},
   "outputs": [],
   "source": [
    "def report_model(model):\n",
    "    model.fit(X_train,y_train)\n",
    "    train_pred=model.predict(X_train)\n",
    "    test_pred=model.predict(X_test)\n",
    "    print(accuracy_score(y_train,train_pred))\n",
    "    print(accuracy_score(y_test,test_pred))\n",
    "    #cross validation\n",
    "    from sklearn.model_selection import cross_val_score\n",
    "    sc=cross_val_score(model,X,y,cv=5)\n",
    "    print(sc)\n",
    "    print(sc.mean())\n",
    "    plt.figure(figsize=(12,12),dpi=150)\n",
    "    plot_tree(model,filled=True,feature_names=X.columns)\n",
    "    "
   ]
  },
  {
   "cell_type": "code",
   "execution_count": null,
   "id": "2208a1d8",
   "metadata": {},
   "outputs": [],
   "source": [
    "report_model(pruned_tree)"
   ]
  },
  {
   "cell_type": "markdown",
   "id": "b90346c9",
   "metadata": {},
   "source": [
    "# max leaf nodes"
   ]
  },
  {
   "cell_type": "code",
   "execution_count": null,
   "id": "17fd8ff0",
   "metadata": {},
   "outputs": [],
   "source": [
    "pruned_tree=DecisionTreeClassifier(max_leaf_nodes=4)\n",
    "report_model(pruned_tree)"
   ]
  },
  {
   "cell_type": "markdown",
   "id": "c910bd5c",
   "metadata": {},
   "source": [
    "# using hyper paramer tunning"
   ]
  },
  {
   "cell_type": "code",
   "execution_count": null,
   "id": "58e6320c",
   "metadata": {},
   "outputs": [],
   "source": [
    "from sklearn.model_selection import GridSearchCV\n",
    "\n",
    "estimator=DecisionTreeClassifier()\n",
    "\n",
    "param_grid={\"min_samples_split\":[1,2,3,4],\"min_samples_leaf\":[1,2,3,4],\"max_depth\":[1,2,3,4],\"criterion\":[\"gini\",\"entropy\"]}\n",
    "\n",
    "#\"min_samples_split\":[1,2,3,4],\"min_samples_leaf\":[1,2,3,4],\"max_depth\":[1,2,3,4],\"criterion\":[\"gini\",\"entropy\"]}\n",
    "#\"min_samples_split\":list(range(1,10)),\"criterion\":[\"gini\",\"entropy\"]}\n",
    "\n",
    "grid=GridSearchCV(estimator,param_grid,cv=5,scoring=\"accuracy\")\n",
    "\n",
    "grid.fit(X,y)\n",
    "grid.best_params_"
   ]
  },
  {
   "cell_type": "markdown",
   "id": "ee7fde2e",
   "metadata": {},
   "source": [
    "# rebuild model with hyper paramer tuning with best value"
   ]
  },
  {
   "cell_type": "code",
   "execution_count": null,
   "id": "bf7a6e05",
   "metadata": {},
   "outputs": [],
   "source": [
    "d_model=DecisionTreeClassifier(criterion='entropy',\n",
    " max_depth= 3,\n",
    " min_samples_leaf=2,\n",
    " min_samples_split=2)\n",
    "    \n",
    "\n",
    "#criterion=\"entropy\",min_samples_split=3\n",
    "\n",
    "\n",
    "d_model.fit(X_train,y_train)\n",
    "\n",
    "train_pred=d_model.predict(X_train)\n",
    "test_pred=d_model.predict(X_test)\n",
    "\n",
    "print(accuracy_score(y_train,train_pred))\n",
    "print(accuracy_score(y_test,test_pred))\n",
    "#cross validation\n",
    "from sklearn.model_selection import cross_val_score\n",
    "sc=cross_val_score(model,X,y,cv=5)\n",
    "print(sc)\n",
    "print(sc.mean())"
   ]
  },
  {
   "cell_type": "markdown",
   "id": "ce17dce0",
   "metadata": {},
   "source": [
    "# 5-Random Forest alogorith in ml with base line parameter"
   ]
  },
  {
   "cell_type": "code",
   "execution_count": null,
   "id": "40e442ec",
   "metadata": {},
   "outputs": [],
   "source": [
    "#modelling with defult parameter decision  random forest with defult \n",
    "\n",
    "from sklearn.ensemble import RandomForestClassifier\n",
    "model=RandomForestClassifier(random_state =129)\n",
    "model.fit(X_train,y_train)\n",
    "\n",
    "#prediction \n",
    "test_pred=model.predict(X_test)\n",
    "train_pred=model.predict(X_train)\n",
    "\n",
    "#evaluation \n",
    "from sklearn.metrics import classification_report,plot_confusion_matrix,accuracy_score\n",
    "\n",
    "print(accuracy_score(y_train,train_pred))\n",
    "print(accuracy_score(y_test,test_pred))\n",
    "\n",
    "#cross validation\n",
    "from sklearn.model_selection import cross_val_score\n",
    "sc=cross_val_score(model,X,y,cv=5)\n",
    "print(sc)\n",
    "print(sc.mean())\n",
    "\n",
    "plot_confusion_matrix(model,X_test,y_test)\n",
    "plt.show()\n",
    "\n",
    "print(classification_report(y_test,test_pred))\n",
    "\n"
   ]
  },
  {
   "cell_type": "markdown",
   "id": "0e907c07",
   "metadata": {},
   "source": [
    "# model importance is showing the best feature/coumns high impotances choes the in decision"
   ]
  },
  {
   "cell_type": "code",
   "execution_count": null,
   "id": "a706730d",
   "metadata": {},
   "outputs": [],
   "source": [
    "model.feature_importances_"
   ]
  },
  {
   "cell_type": "code",
   "execution_count": null,
   "id": "571f21c6",
   "metadata": {},
   "outputs": [],
   "source": [
    "col=pd.DataFrame(index=X.columns,data=model.feature_importances_,columns=[\"FeatureImportances\"])\n",
    "col"
   ]
  },
  {
   "cell_type": "code",
   "execution_count": null,
   "id": "5a158a72",
   "metadata": {},
   "outputs": [],
   "source": [
    "col=col[col[\"FeatureImportances\"]>=0.01]\n",
    "col"
   ]
  },
  {
   "cell_type": "code",
   "execution_count": null,
   "id": "050050e9",
   "metadata": {},
   "outputs": [],
   "source": [
    "X1=X[[\"Pclass\",\"Age\",\"SibSp\",\"Parch\",\"Fare\",\"Sex_male\",\"Embarked_Q\",\"Embarked_S\"]]"
   ]
  },
  {
   "cell_type": "code",
   "execution_count": null,
   "id": "5a238d38",
   "metadata": {},
   "outputs": [],
   "source": [
    "estimator=RandomForestClassifier()\n",
    "\n",
    "#parametrer (which you want to tune and idenify the best )\n",
    "param_grid={\"n_estimators\":list(range(1,101))}\n",
    "\n",
    "grid=GridSearchCV(estimator,param_grid,cv=5,scoring=\"accuracy\")\n",
    "\n",
    "grid.fit(X,y)\n",
    "\n",
    "grid.best_params_"
   ]
  },
  {
   "cell_type": "code",
   "execution_count": null,
   "id": "86278f85",
   "metadata": {},
   "outputs": [],
   "source": [
    "X1_train, X1_test, y_train, y_test = train_test_split(X1, y , random_state =129,     test_size=0.2)\n",
    "d_model=RandomForestClassifier(n_estimators=64)\n",
    "    \n",
    "\n",
    "#criterion=\"entropy\",min_samples_split=3\n",
    "\n",
    "\n",
    "d_model.fit(X1_train,y_train)\n",
    "\n",
    "train_pred=d_model.predict(X1_train)\n",
    "test_pred=d_model.predict(X1_test)\n",
    "\n",
    "print(accuracy_score(y_train,train_pred))\n",
    "print(accuracy_score(y_test,test_pred))\n",
    "#cross validation\n",
    "from sklearn.model_selection import cross_val_score\n",
    "sc=cross_val_score(model,X1,y,cv=5)\n",
    "print(sc)\n",
    "print(sc.mean())"
   ]
  },
  {
   "cell_type": "markdown",
   "id": "58f90abc",
   "metadata": {},
   "source": [
    "# hyperparamerter tunning for best parameter random forest"
   ]
  },
  {
   "cell_type": "code",
   "execution_count": null,
   "id": "9d55eecd",
   "metadata": {},
   "outputs": [],
   "source": [
    "from sklearn.model_selection import GridSearchCV\n",
    "\n",
    "estimator=RandomForestClassifier(random_state =129)\n",
    "\n",
    "#parametrer (which you want to tune and idenify the best )\n",
    "param_grid={\"n_estimators\":list(range(1,101))}\n",
    "\n",
    "grid=GridSearchCV(estimator,param_grid,cv=5,scoring=\"accuracy\")\n",
    "\n",
    "grid.fit(X,y)\n",
    "\n",
    "grid.best_params_"
   ]
  },
  {
   "cell_type": "markdown",
   "id": "4be90ea1",
   "metadata": {},
   "source": [
    "# rebuild the model with hyper tunning best params in random forest"
   ]
  },
  {
   "cell_type": "code",
   "execution_count": null,
   "id": "94d9d7f9",
   "metadata": {},
   "outputs": [],
   "source": [
    "randomforest_model=RandomForestClassifier(n_estimators=42)\n",
    "\n",
    "randomforest_model.fit(X_train,y_train)\n",
    "\n",
    "train_pred=randomforest_model.predict(X_train)\n",
    "test_pred=randomforest_model.predict(X_test)\n",
    "\n",
    "print(accuracy_score(y_train,train_pred))\n",
    "print(accuracy_score(y_test,test_pred))\n",
    "\n",
    "#cross validation\n",
    "from sklearn.model_selection import cross_val_score\n",
    "sc=cross_val_score(randomforest_model,X,y,cv=5)\n",
    "print(sc)\n",
    "sc.mean()\n",
    "X.shape,y.shape"
   ]
  },
  {
   "cell_type": "markdown",
   "id": "a6af36e4",
   "metadata": {},
   "source": [
    "# 5-AdaBoost alogorithm in ml with base line parameter"
   ]
  },
  {
   "cell_type": "code",
   "execution_count": null,
   "id": "126ae12c",
   "metadata": {},
   "outputs": [],
   "source": [
    "#modeling with defual parameter\n",
    "from sklearn.ensemble import AdaBoostClassifier\n",
    "model=AdaBoostClassifier(random_state =129)\n",
    "model.fit(X_train,y_train)\n",
    "\n",
    "#prediction \n",
    "train_pred=model.predict(X_train)\n",
    "test_pred=model.predict(X_test)\n",
    "\n",
    "#evaluation\n",
    "from sklearn.metrics import accuracy_score\n",
    "print(accuracy_score(y_train,train_pred))\n",
    "print(accuracy_score(y_test,test_pred))\n",
    "\n",
    "#cross validation\n",
    "from sklearn.model_selection import cross_val_score\n",
    "sc=cross_val_score(model,X,y,cv=5)\n",
    "print(sc)\n",
    "print(sc.mean())\n",
    "\n",
    "#confusion matrix \n",
    "from sklearn.metrics import plot_confusion_matrix\n",
    "plot_confusion_matrix(model,X_test,y_test)\n",
    "plt.show()\n",
    "\n",
    "#classification_report\n",
    "from sklearn.metrics import classification_report\n",
    "print(classification_report(y_test,test_pred))"
   ]
  },
  {
   "cell_type": "markdown",
   "id": "9fb3d1d8",
   "metadata": {},
   "source": [
    "# hyerpamater tunning in Adaboost"
   ]
  },
  {
   "cell_type": "code",
   "execution_count": null,
   "id": "a2149dc5",
   "metadata": {},
   "outputs": [],
   "source": [
    "#hyerpamater tunning \n",
    "from sklearn.model_selection import GridSearchCV\n",
    "estimator=AdaBoostClassifier(random_state =129)\n",
    "\n",
    "pram_grid={\"n_estimators\":list(range(1,101))}\n",
    "\n",
    "grid=GridSearchCV(estimator,pram_grid,cv=5,scoring=\"accuracy\")\n",
    "grid.fit(X_train,y_train)\n",
    "grid.best_params_"
   ]
  },
  {
   "cell_type": "markdown",
   "id": "61db1e3f",
   "metadata": {},
   "source": [
    "# rebuild the model with hyper tunning best params in Adaboost"
   ]
  },
  {
   "cell_type": "code",
   "execution_count": null,
   "id": "0c75f0a1",
   "metadata": {},
   "outputs": [],
   "source": [
    "#final model rebiuld the model\n",
    "final_model=AdaBoostClassifier(n_estimators=9)\n",
    "final_model.fit(X_train,y_train)\n",
    "\n",
    "train_pred=final_model.predict(X_train)\n",
    "test_pred=final_model.predict(X_test)\n",
    "\n",
    "print(accuracy_score(y_train,train_pred))\n",
    "print(accuracy_score(y_test,test_pred))\n",
    "\n",
    "\n",
    "#cross validation\n",
    "from sklearn.model_selection import cross_val_score\n",
    "sc=cross_val_score(model,X,y,cv=5)\n",
    "print(sc)\n",
    "sc.mean()"
   ]
  },
  {
   "cell_type": "markdown",
   "id": "e5682f28",
   "metadata": {},
   "source": [
    "# model importance is showing the best feature/coumns high impotances choes the in adaboost"
   ]
  },
  {
   "cell_type": "code",
   "execution_count": null,
   "id": "ad04ed14",
   "metadata": {},
   "outputs": [],
   "source": [
    "#feature importances\n",
    "final_model.feature_importances_"
   ]
  },
  {
   "cell_type": "code",
   "execution_count": null,
   "id": "a1aec0d3",
   "metadata": {},
   "outputs": [],
   "source": [
    "f=pd.DataFrame(index=X.columns,data=final_model.feature_importances_,columns=[\"Importances\"])\n",
    "f"
   ]
  },
  {
   "cell_type": "code",
   "execution_count": null,
   "id": "b19e0576",
   "metadata": {},
   "outputs": [],
   "source": [
    "imp_f=f[f[\"Importances\"]>0]\n",
    "imp_f.sort_values(\"Importances\")"
   ]
  },
  {
   "cell_type": "code",
   "execution_count": null,
   "id": "0d7e2b13",
   "metadata": {},
   "outputs": [],
   "source": [
    "plt.figure(figsize=(12,5),dpi=100)\n",
    "sns.barplot(data=imp_f.sort_values(\"Importances\"),x=imp_f.index,y=\"Importances\")\n",
    "plt.xticks(rotation=90)\n",
    "plt.show()"
   ]
  },
  {
   "cell_type": "markdown",
   "id": "3794680d",
   "metadata": {},
   "source": [
    "# 6-GradientBoosting algorithm with defult parameter"
   ]
  },
  {
   "cell_type": "code",
   "execution_count": null,
   "id": "64c86378",
   "metadata": {},
   "outputs": [],
   "source": [
    "#modeling with defult params\n",
    "from sklearn.ensemble import GradientBoostingClassifier\n",
    "g_model= GradientBoostingClassifier(random_state =129)\n",
    "g_model.fit(X_train,y_train)\n",
    "\n",
    "#prediction \n",
    "train_pred=g_model.predict(X_train)\n",
    "test_pred=g_model.predict(X_test)\n",
    "\n",
    "#evaluation\n",
    "from sklearn.metrics import accuracy_score\n",
    "print(accuracy_score(y_train,train_pred))\n",
    "print(accuracy_score(y_test,test_pred))\n",
    "\n",
    "#cross validation\n",
    "from sklearn.model_selection import cross_val_score\n",
    "sc=cross_val_score(g_model,X,y,cv=5)\n",
    "print(sc)\n",
    "sc.mean()"
   ]
  },
  {
   "cell_type": "code",
   "execution_count": null,
   "id": "228ea7d1",
   "metadata": {},
   "outputs": [],
   "source": [
    "#confusion matrix \n",
    "from sklearn.metrics import plot_confusion_matrix\n",
    "plot_confusion_matrix(g_model,X_test,y_test)\n",
    "plt.show()"
   ]
  },
  {
   "cell_type": "code",
   "execution_count": null,
   "id": "e0e08d74",
   "metadata": {},
   "outputs": [],
   "source": [
    "#classification_report\n",
    "from sklearn.metrics import classification_report\n",
    "print(classification_report(y_test,test_pred))"
   ]
  },
  {
   "cell_type": "markdown",
   "id": "f89b2148",
   "metadata": {},
   "source": [
    "# hyerpamater tunning in Gradientboost for best parameter"
   ]
  },
  {
   "cell_type": "code",
   "execution_count": null,
   "id": "75eecc66",
   "metadata": {},
   "outputs": [],
   "source": [
    "#hyerpamater tunning \n",
    "from sklearn.model_selection import GridSearchCV\n",
    "estimator=GradientBoostingClassifier(random_state =129)\n",
    "\n",
    "pram_grid={\"n_estimators\":[1,3,4,5,67,88,39,100],\"learning_rate\":[0.1,0.2,0.3,0.4,0.5,0.6,1]}\n",
    "\n",
    "grid=GridSearchCV(estimator,pram_grid,cv=5,scoring=\"accuracy\")\n",
    "grid.fit(X_train,y_train)\n",
    "grid.best_params_"
   ]
  },
  {
   "cell_type": "code",
   "execution_count": null,
   "id": "a2d7af34",
   "metadata": {},
   "outputs": [],
   "source": [
    "#final model rebiuld the model\n",
    "final_model=GradientBoostingClassifier(n_estimators=3,learning_rate=1)\n",
    "final_model.fit(X_train,y_train)\n",
    "\n",
    "train_pred=final_model.predict(X_train)\n",
    "test_pred=final_model.predict(X_test)\n",
    "\n",
    "print(accuracy_score(y_train,train_pred))\n",
    "print(accuracy_score(y_test,test_pred))\n",
    "#cross validation\n",
    "from sklearn.model_selection import cross_val_score\n",
    "sc=cross_val_score(g_model,X,y,cv=5)\n",
    "print(sc)\n",
    "sc.mean()"
   ]
  },
  {
   "cell_type": "code",
   "execution_count": null,
   "id": "25f275b5",
   "metadata": {},
   "outputs": [],
   "source": [
    "#feature importances\n",
    "final_model.feature_importances_"
   ]
  },
  {
   "cell_type": "markdown",
   "id": "46c02568",
   "metadata": {},
   "source": [
    "# model importance is showing the best feature/coumns high impotances choes the in agradient boost"
   ]
  },
  {
   "cell_type": "code",
   "execution_count": null,
   "id": "feea669d",
   "metadata": {},
   "outputs": [],
   "source": [
    "f=pd.DataFrame(index=X.columns,data=final_model.feature_importances_,columns=[\"Importances\"])\n",
    "f"
   ]
  },
  {
   "cell_type": "code",
   "execution_count": null,
   "id": "7420f65a",
   "metadata": {},
   "outputs": [],
   "source": [
    "imp_f=f[f[\"Importances\"]>0]\n",
    "imp_f.sort_values(\"Importances\",ascending=True)"
   ]
  },
  {
   "cell_type": "code",
   "execution_count": null,
   "id": "338d7ba5",
   "metadata": {},
   "outputs": [],
   "source": [
    "plt.figure(figsize=(14,6),dpi=200)\n",
    "sns.barplot(data=imp_f.sort_values(\"Importances\"),x=imp_f.index,y=\"Importances\")\n",
    "plt.xticks(rotation=90)\n",
    "plt.show()"
   ]
  },
  {
   "cell_type": "markdown",
   "id": "8d4c1d03",
   "metadata": {},
   "source": [
    "# 8-XGBoost alogorithm in ml with base parameter"
   ]
  },
  {
   "cell_type": "code",
   "execution_count": null,
   "id": "c640a1c8",
   "metadata": {},
   "outputs": [],
   "source": [
    "#modeling xgboost with defult \n",
    "from xgboost import XGBClassifier\n",
    "help(XGBClassifier)\n",
    "\n",
    "#1st model should be with defult param \n",
    "xgb_model= XGBClassifier(random_state =129)\n",
    "\n",
    "#fit the model with training data set \n",
    "xgb_model.fit(X_train,y_train)\n",
    "\n",
    "#predict over x_train & predict over x_test\n",
    "train_pred=xgb_model.predict(X_train)\n",
    "test_pred=xgb_model.predict(X_test)\n",
    "\n",
    "#evaluation\n",
    "from sklearn.metrics import accuracy_score\n",
    "print(accuracy_score(y_train,train_pred))\n",
    "print(accuracy_score(y_test,test_pred))\n",
    "\n",
    "#appling k_fold croass validation \n",
    "from sklearn.model_selection import cross_val_score\n",
    "accuracy=cross_val_score(xgb_model,X ,y, cv=5)\n",
    "accuracy.mean()"
   ]
  },
  {
   "cell_type": "code",
   "execution_count": null,
   "id": "ca137395",
   "metadata": {},
   "outputs": [],
   "source": [
    "#confusion matrix \n",
    "from sklearn.metrics import plot_confusion_matrix\n",
    "plot_confusion_matrix(xgb_model,X_test,y_test)\n",
    "plt.show()"
   ]
  },
  {
   "cell_type": "code",
   "execution_count": null,
   "id": "ee4dad76",
   "metadata": {},
   "outputs": [],
   "source": [
    "#classification_report\n",
    "from sklearn.metrics import classification_report\n",
    "print(classification_report(y_test,test_pred))"
   ]
  },
  {
   "cell_type": "markdown",
   "id": "a14a8085",
   "metadata": {},
   "source": [
    "# hyerpamater tunning in XGBoost for best parameter"
   ]
  },
  {
   "cell_type": "code",
   "execution_count": null,
   "id": "6058b9e3",
   "metadata": {},
   "outputs": [],
   "source": [
    "#hyerpamater tunning \n",
    "from xgboost import XGBClassifier\n",
    "from sklearn.model_selection import GridSearchCV\n",
    "estimator= XGBClassifier()\n",
    "param_grid={\"n_estimators\":[1,5,66,7,2,100],\"max_depth\":[3,4,5,6],\"gamma\":[0,1,2,4]}\n",
    "\n",
    "grid=GridSearchCV(estimator,param_grid,cv=5,scoring=\"accuracy\")\n",
    "grid.fit(X_train,y_train)\n",
    "\n",
    "grid.best_params_"
   ]
  },
  {
   "cell_type": "code",
   "execution_count": null,
   "id": "378c72e7",
   "metadata": {},
   "outputs": [],
   "source": [
    "#final model rebiuld the model\n",
    "final_model=XGBClassifier(n_estimators=1,max_depth=6,gamma=2)\n",
    "final_model.fit(X_train,y_train)\n",
    "\n",
    "train_pred=final_model.predict(X_train)\n",
    "test_pred=final_model.predict(X_test)\n",
    "\n",
    "print(accuracy_score(y_train,train_pred))\n",
    "print(accuracy_score(y_test,test_pred))\n",
    "#cross validation\n",
    "from sklearn.model_selection import cross_val_score\n",
    "sc=cross_val_score(final_model,X,y,cv=5)\n",
    "print(sc)\n",
    "sc.mean()"
   ]
  },
  {
   "cell_type": "code",
   "execution_count": null,
   "id": "81c0d18d",
   "metadata": {},
   "outputs": [],
   "source": [
    "prediction=grid.predict(X_test)"
   ]
  },
  {
   "cell_type": "code",
   "execution_count": null,
   "id": "3abe305f",
   "metadata": {},
   "outputs": [],
   "source": [
    "print(classification_report(y_test,test_pred))"
   ]
  },
  {
   "cell_type": "markdown",
   "id": "8603ec97",
   "metadata": {},
   "source": [
    "# model importance is showing the best feature/coumns high impotances choes the in XGboost"
   ]
  },
  {
   "cell_type": "code",
   "execution_count": null,
   "id": "39c45616",
   "metadata": {},
   "outputs": [],
   "source": [
    "#feature importances\n",
    "grid.best_estimator_.feature_importances_"
   ]
  },
  {
   "cell_type": "code",
   "execution_count": null,
   "id": "3cadaffa",
   "metadata": {},
   "outputs": [],
   "source": [
    "imp_f=pd.DataFrame(index=X.columns,data=grid.best_estimator_.feature_importances_,columns=[\"importances\"])\n",
    "imp_f"
   ]
  },
  {
   "cell_type": "code",
   "execution_count": null,
   "id": "777c3aa4",
   "metadata": {},
   "outputs": [],
   "source": [
    "imp_f.sort_values(\"importances\",ascending=False)"
   ]
  },
  {
   "cell_type": "code",
   "execution_count": null,
   "id": "5c6c0a46",
   "metadata": {},
   "outputs": [],
   "source": [
    "imp_f.describe()"
   ]
  },
  {
   "cell_type": "code",
   "execution_count": null,
   "id": "fa7724c7",
   "metadata": {},
   "outputs": [],
   "source": [
    "imp_f=imp_f[imp_f[\"importances\"]>0.000527]"
   ]
  },
  {
   "cell_type": "code",
   "execution_count": null,
   "id": "ac41e7fa",
   "metadata": {},
   "outputs": [],
   "source": [
    "X_train.shape,y_train.shape"
   ]
  },
  {
   "cell_type": "markdown",
   "id": "50d90601",
   "metadata": {},
   "source": [
    "# 9-ANN(ARITIFICAIL NURAL NETWORK)"
   ]
  },
  {
   "cell_type": "code",
   "execution_count": null,
   "id": "806918a0",
   "metadata": {},
   "outputs": [],
   "source": [
    "#inilization of ann\n",
    "from keras.models import Sequential\n",
    "ann=Sequential(random_state =129)\n",
    "\n",
    "#adding the imput layer the with1st hidden layer\n",
    "from keras.layers import Dense\n",
    "ann.add(Dense(input_dim=8,units=4,kernel_initializer=\"uniform\",activation =\"relu\"))\n",
    "\n",
    "#ann.add(dropout(rate=0.1)) for reducing the overfitting problems\n",
    "\n",
    "#adding thhe 2nd hidden layers\n",
    "ann.add(Dense(units=4,kernel_initializer=\"uniform\",activation =\"relu\"))\n",
    "\n",
    "#ann.add(dropout(rate=0.1)) for reducing the overfitting problems and reducing neuron value in hidden layer \n",
    "\n",
    "\n",
    "#adding output layer  & if we stop the hideen layer it will take automatic last layer as output layer\n",
    "ann.add(Dense(units=1,kernel_initializer=\"uniform\",activation =\"sigmoid\"))\n"
   ]
  },
  {
   "cell_type": "markdown",
   "id": "887229d9",
   "metadata": {},
   "source": [
    "# compling the ANN"
   ]
  },
  {
   "cell_type": "code",
   "execution_count": null,
   "id": "16e6d569",
   "metadata": {},
   "outputs": [],
   "source": [
    "ann.compile(optimizer=\"adam\",loss=\"binary_crossentropy\",metrics=[\"accuracy\"])"
   ]
  },
  {
   "cell_type": "markdown",
   "id": "1f08e356",
   "metadata": {},
   "source": [
    "# traing the ANN on the train set"
   ]
  },
  {
   "cell_type": "code",
   "execution_count": null,
   "id": "f3bbbdea",
   "metadata": {},
   "outputs": [],
   "source": [
    "ann.fit(X_train,y_train,epochs=50,batch_size=10)"
   ]
  },
  {
   "cell_type": "markdown",
   "id": "36908eaf",
   "metadata": {},
   "source": [
    "# prediction & evaluating the model"
   ]
  },
  {
   "cell_type": "code",
   "execution_count": null,
   "id": "b989e7da",
   "metadata": {},
   "outputs": [],
   "source": [
    "ypred=ann.predict(X_test)\n",
    "ypred=(ypred>0.5)"
   ]
  },
  {
   "cell_type": "code",
   "execution_count": null,
   "id": "b11bddc3",
   "metadata": {},
   "outputs": [],
   "source": [
    "from sklearn.metrics import confusion_matrix,accuracy_score\n",
    "\n",
    "print(accuracy_score(y_test,ypred))\n",
    "print(confusion_matrix(y_test,ypred))\n",
    "#cross validation\n"
   ]
  },
  {
   "cell_type": "code",
   "execution_count": null,
   "id": "1666c028",
   "metadata": {},
   "outputs": [],
   "source": [
    "cross validate the model"
   ]
  },
  {
   "cell_type": "code",
   "execution_count": null,
   "id": "b6c71f7d",
   "metadata": {},
   "outputs": [],
   "source": [
    "def build_cross_classifier():\n",
    "    classifier=Sequential()\n",
    "    classifier.add(Dense(input_dim=8,units=4,kernel_initializer=\"uniform\",activation =\"relu\"))\n",
    "    classifier.add(Dense(units=4,kernel_initializer=\"uniform\",activation =\"relu\"))\n",
    "    classifier.add(Dense(units=1,kernel_initializer=\"uniform\",activation =\"sigmoid\"))\n",
    "    classifier.compile(optimizer=\"adam\",loss=\"binary_crossentropy\",metrics=[\"accuracy\"])\n",
    "    \n",
    "    return classifier"
   ]
  },
  {
   "cell_type": "code",
   "execution_count": null,
   "id": "7512866b",
   "metadata": {},
   "outputs": [],
   "source": [
    "from scikeras.wrappers import KerasClassifier\n",
    "classifier= KerasClassifier(build_cross_classifier,batch_size=10,epochs=50)"
   ]
  },
  {
   "cell_type": "code",
   "execution_count": null,
   "id": "83159a60",
   "metadata": {},
   "outputs": [],
   "source": [
    "from sklearn.model_selection import cross_val_score\n",
    "accuracy=cross_val_score(classifier,X,y,cv=5)\n",
    "print(accuracy.mean())"
   ]
  },
  {
   "cell_type": "markdown",
   "id": "caccac68",
   "metadata": {},
   "source": [
    "# imporving the tunning the Ann"
   ]
  },
  {
   "cell_type": "code",
   "execution_count": null,
   "id": "aeb59cd7",
   "metadata": {},
   "outputs": [],
   "source": [
    "from sklearn.model_selection import GridSearchCV\n",
    "estimator= KerasClassifier(build_cross_classifier())\n",
    "\n",
    "param_grid={\"batch_size\":[10,32],\"epochs\":[5,2],\"optimizer\":[\"adam\",\"rmsprop\"]}\n",
    "\n",
    "grid=GridSearchCV(estimator,param_grid,scoring=\"accuracy\",cv=5)\n",
    "\n",
    "grid_result=grid.fit(X_train,y_train)\n",
    "\n",
    "\n",
    "\n",
    "#best accuracy\n",
    "grid_result.best_score_"
   ]
  },
  {
   "cell_type": "code",
   "execution_count": null,
   "id": "e497c158",
   "metadata": {},
   "outputs": [],
   "source": [
    "#best parameter\n",
    "grid_result.best_params_"
   ]
  },
  {
   "cell_type": "markdown",
   "id": "3004c09c",
   "metadata": {},
   "source": [
    "# rebuild the model in ann"
   ]
  },
  {
   "cell_type": "code",
   "execution_count": null,
   "id": "ac2dec5b",
   "metadata": {},
   "outputs": [],
   "source": [
    "#final model rebiuld the model\n",
    "estimator= KerasClassifier(build_cross_classifier())\n",
    "\n",
    "param_grid={\"batch_size\":[10],\"epochs\":[5],\"optimizer\":[\"adam\"]}\n",
    "\n",
    "grid=GridSearchCV(estimator,param_grid,scoring=\"accuracy\",cv=5)\n",
    "\n",
    "grid_result=grid.fit(X_train,y_train)\n",
    "\n",
    "\n",
    "\n",
    "#best accuracy\n",
    "grid_result.best_score_"
   ]
  },
  {
   "cell_type": "markdown",
   "id": "2e989a9a",
   "metadata": {},
   "source": [
    "# 9_nivea byes aglorithm"
   ]
  },
  {
   "cell_type": "code",
   "execution_count": null,
   "id": "227e171d",
   "metadata": {},
   "outputs": [],
   "source": [
    "from sklearn.naive_bayes import MultinomialNB\n",
    "model=MultinomialNB(random_state =129)\n",
    "model.fit(X_train,y_train)\n",
    "\n",
    "train_pred=model.predict(X_train)\n",
    "test_pred=model.predict(X_test)\n",
    "\n",
    "\n",
    "from sklearn.metrics import accuracy_score\n",
    "print(\"train_accuracy;=\",accuracy_score(y_train,train_pred))\n",
    "print(\"test_accuracy:=\",accuracy_score(y_test,test_pred))\n",
    "\n",
    "#cross validation\n",
    "from sklearn.model_selection import cross_val_score\n",
    "sc=cross_val_score(model,X,y,cv=5)\n",
    "print(sc)\n",
    "sc.mean()"
   ]
  },
  {
   "cell_type": "code",
   "execution_count": null,
   "id": "e9819769",
   "metadata": {},
   "outputs": [],
   "source": [
    "#deployment\n",
    "#saving model and convteror\n",
    "\n",
    "#from joblib import dump\n",
    "\n",
    "#dump(log_model,\"lr.joblib\")\n"
   ]
  }
 ],
 "metadata": {
  "kernelspec": {
   "display_name": "Python 3 (ipykernel)",
   "language": "python",
   "name": "python3"
  },
  "language_info": {
   "codemirror_mode": {
    "name": "ipython",
    "version": 3
   },
   "file_extension": ".py",
   "mimetype": "text/x-python",
   "name": "python",
   "nbconvert_exporter": "python",
   "pygments_lexer": "ipython3",
   "version": "3.9.13"
  }
 },
 "nbformat": 4,
 "nbformat_minor": 5
}
